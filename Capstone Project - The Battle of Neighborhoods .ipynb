{
    "cells": [
        {
            "cell_type": "markdown",
            "metadata": {
                "collapsed": true
            },
            "source": "<h1>Problems</h1>"
        },
        {
            "cell_type": "markdown",
            "metadata": {},
            "source": "Metropolis cities contain a diversity of businesses and commercial locations distributed in regions based on a certain relationship between them.\nInformation related to cities, their businesses and data on the location and characterization of these locations is available on the Internet.\nAre there resources to assess whether opening a new business is favorable considering a relationship with others already existing in the city?\nWould it be possible to determine the relationship between these locations from regions in these cities (downtown and commercial neighborhoods vs. peripheral neighborhoods)?"
        },
        {
            "cell_type": "markdown",
            "metadata": {},
            "source": "<h1>Description of the data</h1>"
        },
        {
            "cell_type": "markdown",
            "metadata": {},
            "source": "Data will be searched for shopping downtown and outlying neighborhoods in two metropolises New York and Toronto.\nThe relevant data will be extracted, formatted and grouped according to the activity / business of the locations and other relevant information that characterize these groupings.\n"
        }
    ],
    "metadata": {
        "kernelspec": {
            "display_name": "Python 3.7",
            "language": "python",
            "name": "python3"
        },
        "language_info": {
            "codemirror_mode": {
                "name": "ipython",
                "version": 3
            },
            "file_extension": ".py",
            "mimetype": "text/x-python",
            "name": "python",
            "nbconvert_exporter": "python",
            "pygments_lexer": "ipython3",
            "version": "3.7.9"
        }
    },
    "nbformat": 4,
    "nbformat_minor": 1
}